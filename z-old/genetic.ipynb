{
 "cells": [
  {
   "cell_type": "markdown",
   "id": "93303c1d-01cb-46d7-953a-3f9601045abd",
   "metadata": {},
   "source": [
    "https://machinelearningmastery.com/simple-genetic-algorithm-from-scratch-in-python/"
   ]
  },
  {
   "cell_type": "markdown",
   "id": "f0410183-a3b1-40fc-bc8c-f06a29306924",
   "metadata": {},
   "source": [
    "Original DeLanda essay\n",
    "https://web.archive.org/web/20240203233005/https://www.cddc.vt.edu/host/delanda/pages/algorithm.htm"
   ]
  },
  {
   "cell_type": "markdown",
   "id": "bf0a52aa-6075-4d4a-9c19-c8eb12e64920",
   "metadata": {},
   "source": []
  },
  {
   "cell_type": "code",
   "execution_count": 233,
   "id": "cdfde0a9-220d-49b9-b8cf-e2725fe523a3",
   "metadata": {},
   "outputs": [],
   "source": [
    "n_bits = 20\n",
    "n_pop = 5\n",
    "import numpy as np\n",
    "# initial population of random bitstring\n",
    "pop = [np.random.randint(0, 2, n_bits).tolist() for _ in range(n_pop)]"
   ]
  },
  {
   "cell_type": "code",
   "execution_count": 234,
   "id": "5052a4de-6a21-48b9-8675-2e629be4daac",
   "metadata": {
    "scrolled": true
   },
   "outputs": [
    {
     "data": {
      "text/plain": [
       "[[0, 1, 1, 0, 0, 1, 0, 1, 0, 1, 0, 1, 1, 0, 1, 0, 0, 1, 1, 0],\n",
       " [1, 1, 0, 1, 0, 0, 0, 0, 1, 1, 1, 1, 1, 1, 0, 0, 0, 1, 0, 1],\n",
       " [0, 1, 1, 1, 1, 1, 1, 1, 1, 0, 0, 1, 0, 0, 1, 1, 0, 1, 1, 1],\n",
       " [0, 0, 0, 0, 0, 1, 1, 1, 0, 1, 1, 1, 0, 1, 1, 1, 0, 1, 0, 1],\n",
       " [0, 1, 0, 0, 1, 1, 1, 0, 0, 1, 0, 1, 1, 0, 0, 1, 0, 0, 0, 0]]"
      ]
     },
     "execution_count": 234,
     "metadata": {},
     "output_type": "execute_result"
    }
   ],
   "source": [
    "pop"
   ]
  },
  {
   "cell_type": "code",
   "execution_count": null,
   "id": "24d98ddb-0d7b-424b-952b-4cdb9487f6cd",
   "metadata": {},
   "outputs": [],
   "source": []
  },
  {
   "cell_type": "code",
   "execution_count": 235,
   "id": "0ad93d6d-4d4a-4f92-83e1-b407c6d02624",
   "metadata": {},
   "outputs": [],
   "source": [
    "from random import getrandbits"
   ]
  },
  {
   "cell_type": "code",
   "execution_count": 236,
   "id": "54ed5686-19cc-471f-9eb8-81b64f30bbc1",
   "metadata": {},
   "outputs": [
    {
     "data": {
      "text/plain": [
       "'0b110110'"
      ]
     },
     "execution_count": 236,
     "metadata": {},
     "output_type": "execute_result"
    }
   ],
   "source": [
    "bin(getrandbits(6))"
   ]
  },
  {
   "cell_type": "code",
   "execution_count": 237,
   "id": "f6e25241-9988-464d-a302-5773b8809d26",
   "metadata": {
    "scrolled": true
   },
   "outputs": [
    {
     "name": "stdout",
     "output_type": "stream",
     "text": [
      "0\n",
      "1\n",
      "1\n",
      "1\n",
      "0\n",
      "0\n",
      "1\n"
     ]
    }
   ],
   "source": [
    "for i in format(57, '07b'): \n",
    "    print (i)"
   ]
  },
  {
   "cell_type": "markdown",
   "id": "8b4f1127-3778-4dee-b72b-acd8884a2d8a",
   "metadata": {},
   "source": [
    "# Using midi\n",
    "I can use [mido](https://pypi.org/project/mido/) to send messages and program changes to the rytm"
   ]
  },
  {
   "cell_type": "markdown",
   "id": "790a7639-cf6a-41c1-b327-c46ec54232a0",
   "metadata": {},
   "source": [
    "# Approach from ChatGPT"
   ]
  },
  {
   "cell_type": "markdown",
   "id": "06e3ff5e-a360-4711-b8ca-8def14f85eb0",
   "metadata": {},
   "source": [
    "https://chatgpt.com/c/1e91a6cc-aab6-44c7-858c-47b279110f3e"
   ]
  },
  {
   "cell_type": "code",
   "execution_count": 314,
   "id": "7af4b96f-4daf-4810-ad9a-fe5eb348026c",
   "metadata": {},
   "outputs": [],
   "source": [
    "#int.from_bytes(np.random.bytes(1),)"
   ]
  },
  {
   "cell_type": "code",
   "execution_count": 240,
   "id": "2316eaf8-9fb1-4244-97cb-491355da16c1",
   "metadata": {},
   "outputs": [],
   "source": [
    "import numpy as np\n",
    "\n",
    "def initialize_population(pop_size, num_params):\n",
    "    \"\"\"Initialize a population with random 7-bit binary strings.\"\"\"\n",
    "    return np.random.randint(0, 2, (pop_size, num_params * 7))"
   ]
  },
  {
   "cell_type": "code",
   "execution_count": 241,
   "id": "771ed2fb-8d5f-4417-a8c0-f7da790fd5f4",
   "metadata": {},
   "outputs": [
    {
     "data": {
      "text/plain": [
       "array([[0, 0, 1, 1, 1, 0, 0, 1, 0, 1, 0, 0, 0, 0],\n",
       "       [0, 0, 0, 0, 1, 0, 1, 0, 0, 0, 1, 1, 1, 1],\n",
       "       [0, 1, 1, 1, 1, 0, 1, 1, 0, 0, 0, 1, 1, 1],\n",
       "       [1, 1, 1, 0, 0, 0, 0, 0, 1, 1, 1, 1, 1, 0],\n",
       "       [0, 0, 0, 1, 1, 1, 0, 0, 1, 1, 1, 1, 0, 1],\n",
       "       [0, 0, 1, 0, 0, 0, 0, 1, 0, 0, 1, 1, 1, 1],\n",
       "       [1, 0, 0, 0, 0, 1, 1, 1, 1, 0, 1, 1, 0, 1],\n",
       "       [1, 0, 1, 0, 1, 0, 1, 1, 1, 1, 0, 1, 0, 1],\n",
       "       [1, 1, 1, 0, 0, 1, 0, 0, 0, 1, 0, 1, 1, 0],\n",
       "       [0, 0, 0, 1, 0, 1, 1, 0, 0, 1, 1, 1, 1, 1]])"
      ]
     },
     "execution_count": 241,
     "metadata": {},
     "output_type": "execute_result"
    }
   ],
   "source": [
    "initialize_population(10, 2)"
   ]
  },
  {
   "cell_type": "code",
   "execution_count": 242,
   "id": "672fcdc8-1625-4c0d-8086-070b648f56ae",
   "metadata": {},
   "outputs": [],
   "source": [
    "def decode_individual(individual, num_bits_in_param=7):\n",
    "    \"\"\"Decode a binary individual to integer parameters.\"\"\"\n",
    "    num_params = len(individual) // num_bits_in_param\n",
    "    return [int(''.join(map(str, individual[i*7:(i+1)*7])), 2) for i in range(num_params)]"
   ]
  },
  {
   "cell_type": "code",
   "execution_count": 243,
   "id": "4b2170c6-0e33-44c3-84a0-d9830ab1bd9e",
   "metadata": {},
   "outputs": [
    {
     "data": {
      "text/plain": [
       "[95, 75]"
      ]
     },
     "execution_count": 243,
     "metadata": {},
     "output_type": "execute_result"
    }
   ],
   "source": [
    "decode_individual(initialize_population(10, 2)[0])"
   ]
  },
  {
   "cell_type": "code",
   "execution_count": 244,
   "id": "d1a28ca4-531e-402a-a801-c9d2b006dfe6",
   "metadata": {},
   "outputs": [],
   "source": [
    "def encode_individual(params):\n",
    "    \"\"\"Encode integer parameters to a binary individual.\"\"\"\n",
    "    return np.concatenate([np.array(list(f'{param:07b}'), dtype=int) for param in params])"
   ]
  },
  {
   "cell_type": "code",
   "execution_count": 247,
   "id": "1cd51191-c2d1-4c97-bd8b-f8f73824c9d5",
   "metadata": {},
   "outputs": [],
   "source": [
    "test = encode_individual([118])"
   ]
  },
  {
   "cell_type": "code",
   "execution_count": 246,
   "id": "2629b256-0b1d-4114-aef9-907624900275",
   "metadata": {},
   "outputs": [],
   "source": [
    "def fitness(individual):\n",
    "    # Compute the fitness of an individual based on intensive properties.\n",
    "    params = decode_individual(individual)\n",
    "    frequency, timbre1, timbre2, attack, decay, sustain, noise = params\n",
    "    \n",
    "    # Constraints for fitness evaluation\n",
    "    if not (20 <= frequency <= 2000):\n",
    "        return 0  # Frequency out of desired range\n",
    "    \n",
    "    if not (0 <= timbre1 <= 100) or not (0 <= timbre2 <= 100):\n",
    "        return 0  # Timbre parameters out of desired range\n",
    "    \n",
    "    if not (0 <= attack <= 40) or not (20 <= decay <= 127) or not (0 <= sustain <= 127):\n",
    "        return 0  # Envelope parameters out of desired range\n",
    "    \n",
    "    if not (0 <= noise <= 127):\n",
    "        return 0  # Noise parameter out of desired range\n",
    "    \n",
    "    # Example fitness calculation (maximize sum of parameters within constraints)\n",
    "    return sum(params)"
   ]
  },
  {
   "cell_type": "code",
   "execution_count": 276,
   "id": "242ad840-4a35-40af-bbcb-889afa0becca",
   "metadata": {},
   "outputs": [
    {
     "name": "stdout",
     "output_type": "stream",
     "text": [
      "0\n",
      "[110, 6, 108, 90, 2, 18, 125]\n"
     ]
    }
   ],
   "source": [
    "ind = initialize_population(10, 7)[0]\n",
    "print(fitness(ind))\n",
    "print(decode_individual(ind))"
   ]
  },
  {
   "cell_type": "code",
   "execution_count": 280,
   "id": "ccc45f03-5213-4747-b925-d2bffe015e1b",
   "metadata": {},
   "outputs": [],
   "source": [
    "def select(population, fitnesses, num_mates):\n",
    "    #Select individuals based on fitness for the mating pool.\n",
    "    selected_indices = np.random.choice(len(population), num_mates, p=fitnesses/fitnesses.sum())\n",
    "    return population[selected_indices]"
   ]
  },
  {
   "cell_type": "code",
   "execution_count": 278,
   "id": "49dbb033-078c-4dce-99e1-088a77a70bc7",
   "metadata": {},
   "outputs": [],
   "source": [
    "def crossover(parent1, parent2):\n",
    "    \"\"\"Perform single-point crossover between two parents.\"\"\"\n",
    "    point = np.random.randint(1, len(parent1) - 1)\n",
    "    return np.concatenate((parent1[:point], parent2[point:])), np.concatenate((parent2[:point], parent1[point:]))\n"
   ]
  },
  {
   "cell_type": "code",
   "execution_count": 217,
   "id": "1488c204-4235-4247-9e01-4f1630340c0e",
   "metadata": {},
   "outputs": [],
   "source": [
    "def mutate(individual, mutation_rate):\n",
    "    \"\"\"Mutate an individual by flipping bits with a given mutation rate.\"\"\"\n",
    "    for i in range(len(individual)):\n",
    "        if np.random.rand() < mutation_rate:\n",
    "            individual[i] = 1 - individual[i]\n",
    "    return individual"
   ]
  },
  {
   "cell_type": "code",
   "execution_count": 218,
   "id": "a41a33a6-55c1-4047-9b96-585f18a0aa5b",
   "metadata": {},
   "outputs": [],
   "source": [
    "# Parameters\n",
    "pop_size = 500\n",
    "num_params = 7  # [frequency, timbre1, timbre2, attack, decay, sustain, noise]\n",
    "num_generations = 100\n",
    "mutation_rate = 0.01"
   ]
  },
  {
   "cell_type": "code",
   "execution_count": 219,
   "id": "d9a452d7-54a5-4db4-9e72-47f67280fe1a",
   "metadata": {},
   "outputs": [],
   "source": [
    "# Initialize population\n",
    "population = initialize_population(pop_size, num_params)"
   ]
  },
  {
   "cell_type": "code",
   "execution_count": 231,
   "id": "c90233e5-f5fd-4cc1-87d4-321cb04ed3e0",
   "metadata": {},
   "outputs": [
    {
     "name": "stdout",
     "output_type": "stream",
     "text": [
      "Generation 1: Best Fitness = 700\n",
      "Generation 2: Best Fitness = 705\n",
      "Generation 3: Best Fitness = 692\n",
      "Generation 4: Best Fitness = 696\n",
      "Generation 5: Best Fitness = 692\n",
      "Generation 6: Best Fitness = 707\n",
      "Generation 7: Best Fitness = 703\n",
      "Generation 8: Best Fitness = 691\n",
      "Generation 9: Best Fitness = 703\n",
      "Generation 10: Best Fitness = 700\n",
      "Generation 11: Best Fitness = 703\n",
      "Generation 12: Best Fitness = 702\n",
      "Generation 13: Best Fitness = 704\n",
      "Generation 14: Best Fitness = 708\n",
      "Generation 15: Best Fitness = 706\n",
      "Generation 16: Best Fitness = 692\n",
      "Generation 17: Best Fitness = 695\n",
      "Generation 18: Best Fitness = 701\n",
      "Generation 19: Best Fitness = 697\n",
      "Generation 20: Best Fitness = 703\n",
      "Generation 21: Best Fitness = 700\n",
      "Generation 22: Best Fitness = 708\n",
      "Generation 23: Best Fitness = 723\n",
      "Generation 24: Best Fitness = 696\n",
      "Generation 25: Best Fitness = 699\n",
      "Generation 26: Best Fitness = 701\n",
      "Generation 27: Best Fitness = 703\n",
      "Generation 28: Best Fitness = 714\n",
      "Generation 29: Best Fitness = 719\n",
      "Generation 30: Best Fitness = 720\n",
      "Generation 31: Best Fitness = 719\n",
      "Generation 32: Best Fitness = 717\n",
      "Generation 33: Best Fitness = 710\n",
      "Generation 34: Best Fitness = 715\n",
      "Generation 35: Best Fitness = 715\n",
      "Generation 36: Best Fitness = 701\n",
      "Generation 37: Best Fitness = 706\n",
      "Generation 38: Best Fitness = 711\n",
      "Generation 39: Best Fitness = 709\n",
      "Generation 40: Best Fitness = 709\n",
      "Generation 41: Best Fitness = 706\n",
      "Generation 42: Best Fitness = 710\n",
      "Generation 43: Best Fitness = 709\n",
      "Generation 44: Best Fitness = 708\n",
      "Generation 45: Best Fitness = 704\n",
      "Generation 46: Best Fitness = 713\n",
      "Generation 47: Best Fitness = 713\n",
      "Generation 48: Best Fitness = 702\n",
      "Generation 49: Best Fitness = 705\n",
      "Generation 50: Best Fitness = 699\n",
      "Generation 51: Best Fitness = 698\n",
      "Generation 52: Best Fitness = 698\n",
      "Generation 53: Best Fitness = 701\n",
      "Generation 54: Best Fitness = 700\n",
      "Generation 55: Best Fitness = 700\n",
      "Generation 56: Best Fitness = 702\n",
      "Generation 57: Best Fitness = 698\n",
      "Generation 58: Best Fitness = 685\n",
      "Generation 59: Best Fitness = 697\n",
      "Generation 60: Best Fitness = 698\n",
      "Generation 61: Best Fitness = 698\n",
      "Generation 62: Best Fitness = 698\n",
      "Generation 63: Best Fitness = 696\n",
      "Generation 64: Best Fitness = 698\n",
      "Generation 65: Best Fitness = 692\n",
      "Generation 66: Best Fitness = 703\n",
      "Generation 67: Best Fitness = 677\n",
      "Generation 68: Best Fitness = 696\n",
      "Generation 69: Best Fitness = 706\n",
      "Generation 70: Best Fitness = 682\n",
      "Generation 71: Best Fitness = 689\n",
      "Generation 72: Best Fitness = 688\n",
      "Generation 73: Best Fitness = 694\n",
      "Generation 74: Best Fitness = 689\n",
      "Generation 75: Best Fitness = 689\n",
      "Generation 76: Best Fitness = 685\n",
      "Generation 77: Best Fitness = 693\n",
      "Generation 78: Best Fitness = 686\n",
      "Generation 79: Best Fitness = 691\n",
      "Generation 80: Best Fitness = 695\n",
      "Generation 81: Best Fitness = 686\n",
      "Generation 82: Best Fitness = 709\n",
      "Generation 83: Best Fitness = 697\n",
      "Generation 84: Best Fitness = 686\n",
      "Generation 85: Best Fitness = 704\n",
      "Generation 86: Best Fitness = 693\n",
      "Generation 87: Best Fitness = 702\n",
      "Generation 88: Best Fitness = 704\n",
      "Generation 89: Best Fitness = 693\n",
      "Generation 90: Best Fitness = 687\n",
      "Generation 91: Best Fitness = 686\n",
      "Generation 92: Best Fitness = 692\n",
      "Generation 93: Best Fitness = 708\n",
      "Generation 94: Best Fitness = 689\n",
      "Generation 95: Best Fitness = 695\n",
      "Generation 96: Best Fitness = 702\n",
      "Generation 97: Best Fitness = 703\n",
      "Generation 98: Best Fitness = 701\n",
      "Generation 99: Best Fitness = 691\n",
      "Generation 100: Best Fitness = 718\n"
     ]
    }
   ],
   "source": [
    "for generation in range(num_generations):\n",
    "    # Compute fitnesses\n",
    "    fitnesses = np.array([fitness(ind) for ind in population])\n",
    "    \n",
    "    # Select parents\n",
    "    mating_pool = select(population, fitnesses, pop_size // 2)\n",
    "    \n",
    "    # Create next generation\n",
    "    next_population = []\n",
    "    for i in range(0, len(mating_pool), 2):\n",
    "        parent1, parent2 = mating_pool[i], mating_pool[i+1]\n",
    "        child1, child2 = crossover(parent1, parent2)\n",
    "        next_population.extend([mutate(child1, mutation_rate), mutate(child2, mutation_rate)])\n",
    "        #print(parent1)\n",
    "    \n",
    "    population = np.array(next_population)\n",
    "    \n",
    "    # Optional: print the best fitness in the current generation\n",
    "    print(f\"Generation {generation + 1}: Best Fitness = {max(fitnesses)}\")"
   ]
  },
  {
   "cell_type": "code",
   "execution_count": 232,
   "id": "e5e56d83-590c-4f6b-ab53-28247d6a3fb1",
   "metadata": {},
   "outputs": [
    {
     "name": "stdout",
     "output_type": "stream",
     "text": [
      "Best Individual: [1 1 1 1 1 1 1 1 0 1 0 0 1 1 1 0 1 1 1 0 0 0 0 1 1 0 0 1 1 1 1 1 1 0 0 1 1\n",
      " 1 1 1 0 1 0 0 1 1 1 0 0]\n",
      "Best Parameters: [127, 83, 92, 25, 124, 125, 28]\n"
     ]
    }
   ],
   "source": [
    "# Decode the best individual\n",
    "best_individual = population[np.argmax(fitnesses)]\n",
    "best_params = decode_individual(best_individual)\n",
    "print(f\"Best Individual: {best_individual}\")\n",
    "print(f\"Best Parameters: {best_params}\")"
   ]
  },
  {
   "cell_type": "code",
   "execution_count": null,
   "id": "8c6a1f0e-3ade-4646-89e4-6459ac7ebbd8",
   "metadata": {},
   "outputs": [],
   "source": []
  },
  {
   "cell_type": "code",
   "execution_count": null,
   "id": "df3f0e1f-876d-497c-9373-5d2eaedc49b0",
   "metadata": {},
   "outputs": [],
   "source": []
  }
 ],
 "metadata": {
  "kernelspec": {
   "display_name": "Python 3 (ipykernel)",
   "language": "python",
   "name": "python3"
  },
  "language_info": {
   "codemirror_mode": {
    "name": "ipython",
    "version": 3
   },
   "file_extension": ".py",
   "mimetype": "text/x-python",
   "name": "python",
   "nbconvert_exporter": "python",
   "pygments_lexer": "ipython3",
   "version": "3.9.6"
  }
 },
 "nbformat": 4,
 "nbformat_minor": 5
}
